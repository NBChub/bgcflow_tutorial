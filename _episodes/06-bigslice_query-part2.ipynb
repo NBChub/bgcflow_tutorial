{
 "cells": [
  {
   "cell_type": "markdown",
   "id": "fa8f69e9",
   "metadata": {},
   "source": [
    "---\n",
    "title: Exploring BiG-SLICE query result\n",
    "teaching: 0\n",
    "exercises: 20\n",
    "questions:\n",
    "    - \" How do I annotate BiG-SLICE query result\"\n",
    "objectives:\n",
    "    - \"Enrich BiG-FAM hits with other BGCflow results\"\n",
    "keypoints:\n",
    "    - \"Different BGCflow outputs can be combined to enrich BiG-SLICE query network\"\n",
    "---"
   ]
  },
  {
   "cell_type": "markdown",
   "id": "16c8b2a9-2f77-4844-a764-f7cb4ced8045",
   "metadata": {},
   "source": [
    "In this episode, we will explore BiG-SLICE query hits of _S. venezuelae_ genomes with the [BiG-FAM database (version 1.0.0, run 6)](https://bigfam.bioinformatics.nl/home). You can download [the `.ipynb` file of this episode](https://github.com/NBChub/bgcflow_tutorial/blob/gh-pages/_episodes/06-bigslice_query-part2.ipynb) and run it from your own directory.\n",
    "\n",
    "### Table of Contents\n",
    "1. [BGCflow Paths Configuration](#1)\n",
    "2. [Raw BiG-SLICE query hits](#2)\n",
    "3. [A glimpse of the data distribution](#3)\n",
    "    - [Sanity Check: How many gene clusters predicted by antiSMASH?](#3.1)\n",
    "    - [How many BGCs can be assigned to BiG-FAM gene cluster families?](#3.2)\n",
    "    - [A closer look to BiG-FAM distributions](#3.3)\n",
    "4. [Annotate Network with information from BiG-SCAPE and GTDB](#4)\n",
    "5. [Import the annotation to Cytoscape](#5)\n",
    "\n",
    "### Libraries & Functions"
   ]
  },
  {
   "cell_type": "code",
   "execution_count": null,
   "id": "d42e20f8-add5-43d7-8236-d655c4e49cc1",
   "metadata": {},
   "outputs": [],
   "source": [
    "# load libraries\n",
    "import pandas as pd\n",
    "import seaborn as sns\n",
    "import matplotlib.pyplot as plt\n",
    "import networkx as nx\n",
    "import numpy as np\n",
    "from pathlib import Path\n",
    "import json"
   ]
  },
  {
   "cell_type": "code",
   "execution_count": null,
   "id": "f86e83d6-3c1e-4c17-a732-2daf60efcee1",
   "metadata": {},
   "outputs": [],
   "source": [
    "# generate data\n",
    "def gcf_hits(df_gcf, cutoff=900):\n",
    "    \"\"\"\n",
    "    Filter bigslice result based on distance threshold to model and generate data.\n",
    "    \"\"\"\n",
    "    mask = df_gcf.loc[:, \"membership_value\"] <= cutoff\n",
    "    df_gcf_filtered = df_gcf[mask]\n",
    "    bgcs = df_gcf_filtered.bgc_id.unique()\n",
    "    gcfs = df_gcf_filtered.gcf_id.unique()\n",
    "    print(\n",
    "    f\"\"\"BiG-SLICE query with BiG-FAM run 6, distance cutoff {cutoff}\n",
    "Number of bgc hits : {len(bgcs)}/{len(df_gcf.bgc_id.unique())}\n",
    "Number of GCF hits : {len(gcfs)}\"\"\")\n",
    "    return df_gcf_filtered\n",
    "\n",
    "# visualization\n",
    "def plot_overview(data):\n",
    "    \"\"\"\n",
    "    Plot BGC hits distribution from BiG-SLICE Query\n",
    "    \"\"\"\n",
    "    ranks = data.gcf_id.value_counts().index\n",
    "    sns.set_theme()\n",
    "    sns.set_context(\"paper\")\n",
    "    fig, axes = plt.subplots(1, 2, figsize=(25, 20))\n",
    "    plt.figure(figsize = (25,25))\n",
    "\n",
    "    # first plot\n",
    "    sns.histplot(data=data, x='membership_value', \n",
    "                 kde=True, ax=axes[0],)\n",
    "\n",
    "    # second plot\n",
    "    sns.boxplot(data=data, y='gcf_id', x='membership_value', \n",
    "                orient='h', ax=axes[1], order=ranks)\n",
    "\n",
    "    # Add in points to show each observation\n",
    "    sns.stripplot(x=\"membership_value\", y=\"gcf_id\", data=data,\n",
    "                  jitter=True, size=3, linewidth=0, color=\".3\", \n",
    "                  ax=axes[1], orient='h', order=ranks)\n",
    "    return"
   ]
  },
  {
   "cell_type": "markdown",
   "id": "911ff923-3c58-4278-9d40-2415967e28d3",
   "metadata": {},
   "source": [
    "## BGCflow Paths Configuration <a name=\"1\"></a>\n",
    "Customize the cell below to your BGCflow result paths"
   ]
  },
  {
   "cell_type": "code",
   "execution_count": null,
   "id": "5c5dfb98-655f-427f-a7bd-ae9ad8ff36a7",
   "metadata": {},
   "outputs": [],
   "source": [
    "# interim data\n",
    "bigslice_query = Path(\"/datadrive/home/matinnu/bgcflow_data/interim/bigslice/query/s_venezuelae_antismash_6.0.1/\")\n",
    "\n",
    "# processed data\n",
    "bigslice_query_processed = Path(\"/datadrive/bgcflow/data/processed/s_venezuelae/bigslice/query_as_6.0.1/\")\n",
    "bigscape_result = Path(\"/datadrive/home/matinnu/bgcflow_data/processed/s_venezuelae/bigscape/for_cytoscape_antismash_6.0.1/2022-06-21 02_46_35_df_clusters_0.30.csv\")\n",
    "gtdb_table = Path(\"/datadrive/home/matinnu/bgcflow_data/processed/s_venezuelae/tables/df_gtdb_meta.csv\")\n",
    "\n",
    "# output path\n",
    "output_path = Path(\"../tables/bigslice\")\n",
    "output_path.mkdir(parents=True, exist_ok=True)"
   ]
  },
  {
   "cell_type": "markdown",
   "id": "31022d2d-3dc5-4d78-8422-1007cd233633",
   "metadata": {},
   "source": [
    "## Raw BiG-SLICE query hits <a name=\"2\"></a>\n",
    "First, let's see the raw data from BiG-SLICE query hits. We have extracted individual tables from the SQL database."
   ]
  },
  {
   "cell_type": "code",
   "execution_count": null,
   "id": "1fdcc4b6-ccd5-4eee-a7ff-5570d60436aa",
   "metadata": {},
   "outputs": [],
   "source": [
    "! tree /datadrive/bgcflow/data/interim/bigslice/query/s_venezuelae_antismash_6.0.1/"
   ]
  },
  {
   "cell_type": "markdown",
   "id": "42a431a2-397c-40e0-b379-9517f3c9c613",
   "metadata": {},
   "source": [
    "We will first look at these two tables:\n",
    "- `bgc` table or the file `bgc.csv`\n",
    "- `gcf_membership` table or the file `gcf_membership.csv`\n",
    "\n",
    "The data from the interim folder has been processed for downstream analysis in the processed directory:"
   ]
  },
  {
   "cell_type": "code",
   "execution_count": null,
   "id": "c805cd94-2407-4708-8d71-b92c84d37405",
   "metadata": {
    "tags": []
   },
   "outputs": [],
   "source": [
    "! tree /datadrive/bgcflow/data/processed/s_venezuelae/bigslice/query_as_6.0.1/"
   ]
  },
  {
   "cell_type": "code",
   "execution_count": null,
   "id": "c8deb00f-cf00-4077-9297-7b6f14603b61",
   "metadata": {},
   "outputs": [],
   "source": [
    "# load the two tables\n",
    "df_bgc = pd.read_csv(bigslice_query / \"bgc.csv\")\n",
    "# BGC table from bigslice\n",
    "df_bgc.loc[:, 'genome_id'] = [Path(i).name for i in df_bgc.orig_folder] # will be put in the main bgcflow code\n",
    "# GCF membership table from bigslice\n",
    "df_gcf_membership = pd.read_csv(bigslice_query / \"gcf_membership.csv\")"
   ]
  },
  {
   "cell_type": "markdown",
   "id": "f16d84c1-12f5-42cf-a10a-08bb8ae51364",
   "metadata": {},
   "source": [
    "The `gcf_membership` table lists the top 10 closest BiG-FAM GCF models (order shown as `rank` column) and the euclidean distance to the model (`membership_value`). Smaller `membership_value` means that our BGC has a closer or more similar features with the models. Note that we are querying against run 6 in the BiG-FAM model, with threshold of 900, Therefore, if the `membership_value` is above 900, it is less likely that our BGC belongs to that gcf model."
   ]
  },
  {
   "cell_type": "code",
   "execution_count": null,
   "id": "53ea2783-86fd-4b23-9669-d73b6e5831a7",
   "metadata": {},
   "outputs": [],
   "source": [
    "df_gcf_membership.head()"
   ]
  },
  {
   "cell_type": "markdown",
   "id": "534a052f-4027-4b31-8a6e-77b5a5cb7259",
   "metadata": {},
   "source": [
    "The `bgc_id` column in `gcf_membership` table refers to the `id` column in `bgc` table. Therefore, we can enrich our hits with the metadata contained in `bgc` table"
   ]
  },
  {
   "cell_type": "code",
   "execution_count": null,
   "id": "e14495a9-5297-4d57-9570-2f45ba398417",
   "metadata": {},
   "outputs": [],
   "source": [
    "df_bgc.head()"
   ]
  },
  {
   "cell_type": "markdown",
   "id": "4eea4449-9305-4bd3-bb40-3690a7289c7b",
   "metadata": {},
   "source": [
    "## A glimpse of the data distribution <a name=\"3\"></a>\n",
    "### Sanity Check: How many gene clusters predicted by antiSMASH? <a name=\"3.1\"></a>"
   ]
  },
  {
   "cell_type": "code",
   "execution_count": null,
   "id": "5a57e56d-abab-4e2b-958d-658c97176f97",
   "metadata": {},
   "outputs": [],
   "source": [
    "print(f\"There are {len(df_bgc)} BGCs predicted from {len(df_bgc.orig_folder.unique())} genomes.\")"
   ]
  },
  {
   "cell_type": "markdown",
   "id": "26c39808-e074-4490-b638-0401dff17d93",
   "metadata": {},
   "source": [
    "### How many BGCs can be assigned to BiG-FAM gene cluster families? <a name=\"3.2\"></a>\n",
    "BiG-SLICE calculate the feature distance of a BGC to BiG-FAM models (which is a centroid of each Gene Cluster Families generated from 1.2 million BGCs). Though it's not that accurate, it can give us a glimpse of the distribution of our BGCs within the database."
   ]
  },
  {
   "cell_type": "code",
   "execution_count": null,
   "id": "45c42a3f-58db-4a72-aeeb-5cfce0c30785",
   "metadata": {},
   "outputs": [],
   "source": [
    "sns.set_theme()\n",
    "sns.set_context(\"paper\")\n",
    "sns.histplot(df_gcf_membership, x='membership_value', kde=True)\n",
    "for c in [900, 1200, 1500]:\n",
    "    gcf_hits(df_gcf_membership, c)"
   ]
  },
  {
   "cell_type": "markdown",
   "id": "07d8973b-6217-4d13-9e40-9eae9e2bd057",
   "metadata": {},
   "source": [
    "Depending on the distance cutoffs, we can assign our BGCs to a different numbers of GCF model. The default cutoffs is 900 (run 6). In our data, 382 out of 515 BGCs can be assigned to 114 BiG-FAM GCF. Do note that the number of assigned GCF can be smaller if we only consider the first hit (the query returns 10 hits).\n",
    "\n",
    "Smaller number means a closer distance to the GCF model. For further analysis, we will stick with the default cutoff."
   ]
  },
  {
   "cell_type": "markdown",
   "id": "b1317556-1e15-44d0-92a5-a33bb3c942a3",
   "metadata": {},
   "source": [
    "### A closer look to BiG-FAM distributions <a name=\"3.3\"></a>\n",
    "BGCflow already cleans the data for downstream processing. The processed bigslice query can be found in `bgcflow/data/processed/s_venezuelae/bigslice/query_as_6.0.1/`."
   ]
  },
  {
   "cell_type": "code",
   "execution_count": null,
   "id": "ac5ccfdd-ee72-4578-8f14-88e4ea5fe529",
   "metadata": {},
   "outputs": [],
   "source": [
    "data = pd.read_csv(bigslice_query_processed / \"query_network.csv\")\n",
    "plot_overview(data)"
   ]
  },
  {
   "cell_type": "markdown",
   "id": "1836c613-b60d-464b-945d-e4f5351830ff",
   "metadata": {},
   "source": [
    "On the figure above, we can see the distance distribution of our query to the model, and how each models have varying degree of distances. But, this data includes the top 10 hits, so 1 BGCs can be assigned to multiple GCFs.\n",
    "\n",
    "Let's see again only for the first hit."
   ]
  },
  {
   "cell_type": "code",
   "execution_count": null,
   "id": "91753785-66d8-44e7-8649-c13716802f03",
   "metadata": {},
   "outputs": [],
   "source": [
    "n_hits = 1 # get only the first hit\n",
    "n_hits_only = data.loc[:, \"rank\"].isin(np.arange(n_hits))\n",
    "data_1 = data[n_hits_only]\n",
    "print(f\"For the top {n_hits} hit, {len(data_1.bgc_id.unique())} BGCs can be mapped to {len(data_1.gcf_id.unique())} GCF\")\n",
    "plot_overview(data_1)"
   ]
  },
  {
   "cell_type": "markdown",
   "id": "0cd2e649-66e1-4cd7-be59-ee60fcf82733",
   "metadata": {},
   "source": [
    "## Annotate Network with information from BiG-SCAPE and GTDB <a name=\"4\"></a>\n",
    "These network will only be meaningful when we enrich it with metadata. We can use information from our BiG-SCAPE runs, taxonomic information from GTDB-tk, and other tables generated by BGCflow. "
   ]
  },
  {
   "cell_type": "code",
   "execution_count": null,
   "id": "158186fe-9d5a-49bb-855c-187e8378d6b0",
   "metadata": {},
   "outputs": [],
   "source": [
    "# Enrich with BiG-SCAPE\n",
    "df_annotation = pd.read_csv(bigscape_result, index_col=0)\n",
    "df_annotation.loc[:, \"bigslice_query\"] = \"query\"\n",
    "for i in data[\"gcf_id\"].unique():\n",
    "    df_annotation.loc[i, \"bigslice_query\"] = \"model\"\n",
    "\n",
    "# enrich with GTDB\n",
    "df_gtdb = pd.read_csv(gtdb_table).set_index(\"genome_id\")\n",
    "for i in df_annotation.index:\n",
    "    genome_id = df_annotation.loc[i, \"genome_id\"]\n",
    "    if type(genome_id) == str:\n",
    "        for item in [\"gtdb_release\", \"Domain\", \"Phylum\", \"Class\", \"Order\", \"Family\", \"Genus\", \"Species\", \"Organism\"]:\n",
    "            df_annotation.loc[i, item] = df_gtdb.loc[genome_id, item]\n",
    "\n",
    "# enrich with bgc info - will be put in the main bgcflow code\n",
    "bgc_info = df_bgc.copy()\n",
    "bgc_info[\"bgc_id\"] = [str(i).replace(\".gbk\", \"\") for i in bgc_info[\"orig_filename\"]]\n",
    "bgc_info = bgc_info.set_index(\"bgc_id\")\n",
    "for i in df_annotation.index:\n",
    "    try:\n",
    "        df_annotation.loc[i, \"on_contig_edge\"] = bgc_info.loc[i, \"on_contig_edge\"]\n",
    "        df_annotation.loc[i, \"length_nt\"] = bgc_info.loc[i, \"length_nt\"]\n",
    "    except KeyError:\n",
    "        pass"
   ]
  },
  {
   "cell_type": "code",
   "execution_count": null,
   "id": "9409e716-828d-4bd4-a2fe-d36e9219777b",
   "metadata": {},
   "outputs": [],
   "source": [
    "df_annotation.head()"
   ]
  },
  {
   "cell_type": "code",
   "execution_count": null,
   "id": "bb7908a6-7cd8-436d-8c06-ba409a8a6100",
   "metadata": {},
   "outputs": [],
   "source": [
    "df_annotation.to_csv(\"../tables/bigslice/enriched_query_annotation.csv\")"
   ]
  },
  {
   "cell_type": "markdown",
   "id": "14b042ef-0d77-47ca-9fc0-7282570bcaf4",
   "metadata": {},
   "source": [
    "## Import the annotation to Cytoscape <a name=\"5\"></a>\n",
    "Download the `enriched_query_annotation.csv` and import it to enrich the nodes in Cytoscape network.\n",
    "Using the new annotations, play around and explore the network to find interesting BGCs and their BiG-FAM models."
   ]
  }
 ],
 "metadata": {
  "kernelspec": {
   "display_name": "Python 3 (ipykernel)",
   "language": "python",
   "name": "python3"
  },
  "language_info": {
   "codemirror_mode": {
    "name": "ipython",
    "version": 3
   },
   "file_extension": ".py",
   "mimetype": "text/x-python",
   "name": "python",
   "nbconvert_exporter": "python",
   "pygments_lexer": "ipython3",
   "version": "3.10.4"
  }
 },
 "nbformat": 4,
 "nbformat_minor": 5
}
